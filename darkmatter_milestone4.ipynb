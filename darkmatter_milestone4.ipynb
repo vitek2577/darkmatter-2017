{
 "cells": [
  {
   "cell_type": "code",
   "execution_count": 4,
   "metadata": {
    "collapsed": true
   },
   "outputs": [],
   "source": [
    "import numpy as np\n",
    "import pandas as pd\n",
    "import time\n",
    "from joblib import Parallel, delayed"
   ]
  },
  {
   "cell_type": "code",
   "execution_count": 4,
   "metadata": {},
   "outputs": [
    {
     "data": {
      "text/plain": [
       "array([     0.        ,   1293.        ,   2586.        ,   2880.45703125,\n",
       "         3879.        ,   4151.99609375,   5172.        ,   6465.        ,\n",
       "         7758.        ,   9051.        ,  10344.        ,  11637.        ,\n",
       "        11794.10742188,  12930.        ,  14223.        ,  15516.        ,\n",
       "        16809.        ,  16884.28710938,  18102.        ,  18153.56445312,\n",
       "        19395.        ,  20688.        ,  21981.        ,  23249.41015625,\n",
       "        23251.03320312,  23251.6484375 ,  23274.        ,  24567.        ,\n",
       "        25797.32421875,  25860.        ,  27153.        ,  28446.        ,\n",
       "        29739.        ,  31032.        ,  32325.        ,  33435.015625  ,\n",
       "        33618.        ,  34911.        ,  35980.05078125,  35982.87109375,\n",
       "        36204.        ,  37252.6875    ,  37497.        ,  38790.        ,\n",
       "        40083.        ,  41376.        ,  42669.        ,  43962.        ,\n",
       "        45255.        ,  46548.        ,  47841.        ,  49134.        ,\n",
       "        50427.        ,  51720.        ,  53013.        ,  54306.        ,\n",
       "        55599.        ,  56892.        ,  58185.        ,  59478.        ,\n",
       "        60771.        ,  62064.        ,  63357.        ,  64650.        ,\n",
       "        65943.        ,  67236.        ,  68529.        ,  69822.        ,\n",
       "        71115.        ,  72408.        ,  73701.        ])"
      ]
     },
     "execution_count": 4,
     "metadata": {},
     "output_type": "execute_result"
    }
   ],
   "source": [
    "sort_train.Z.unique()"
   ]
  },
  {
   "cell_type": "code",
   "execution_count": null,
   "metadata": {
    "scrolled": true
   },
   "outputs": [
    {
     "name": "stdout",
     "output_type": "stream",
     "text": [
      "0\n",
      "--- 0.16128778457641602 seconds ---\n",
      "10000\n",
      "--- 1.6387581825256348 seconds ---\n",
      "30000\n",
      "--- 5.018329620361328 seconds ---\n",
      "50000\n",
      "--- 7.686347961425781 seconds ---\n",
      "60000\n",
      "--- 9.274935483932495 seconds ---\n",
      "70000\n",
      "--- 10.732155799865723 seconds ---\n",
      "80000\n",
      "--- 12.35422420501709 seconds ---\n",
      "120000\n",
      "--- 18.386609315872192 seconds ---\n",
      "140000\n",
      "--- 21.231293201446533 seconds ---\n",
      "160000\n",
      "--- 23.99138331413269 seconds ---\n",
      "180000\n",
      "--- 27.283209562301636 seconds ---\n",
      "190000\n",
      "--- 28.525105714797974 seconds ---\n",
      "200000\n",
      "--- 30.2147798538208 seconds ---\n",
      "210000\n",
      "--- 31.878807544708252 seconds ---\n",
      "240000\n",
      "--- 36.33445072174072 seconds ---\n",
      "250000\n",
      "--- 37.71473550796509 seconds ---\n",
      "260000\n",
      "--- 39.268543004989624 seconds ---\n",
      "270000\n",
      "--- 41.00176239013672 seconds ---\n",
      "300000\n",
      "--- 45.552228927612305 seconds ---\n",
      "310000\n",
      "--- 46.804438829422 seconds ---\n",
      "320000\n",
      "--- 48.30268216133118 seconds ---\n",
      "330000\n",
      "--- 50.13842272758484 seconds ---\n",
      "350000\n",
      "--- 53.00621032714844 seconds ---\n",
      "370000\n",
      "--- 55.82520771026611 seconds ---\n",
      "390000\n",
      "--- 58.56573462486267 seconds ---\n",
      "400000\n",
      "--- 60.16619682312012 seconds ---\n",
      "410000\n",
      "--- 61.913265228271484 seconds ---\n",
      "420000\n",
      "--- 63.129263162612915 seconds ---\n",
      "430000\n",
      "--- 64.70203042030334 seconds ---\n",
      "450000\n",
      "--- 67.70596933364868 seconds ---\n",
      "460000\n",
      "--- 69.40477347373962 seconds ---\n",
      "470000\n",
      "--- 70.98104500770569 seconds ---\n",
      "480000\n",
      "--- 72.24562215805054 seconds ---\n",
      "490000\n",
      "--- 73.82626724243164 seconds ---\n",
      "510000\n",
      "--- 76.59686613082886 seconds ---\n",
      "520000\n",
      "--- 78.12099504470825 seconds ---\n",
      "530000\n",
      "--- 79.71692395210266 seconds ---\n",
      "540000\n",
      "--- 80.89332962036133 seconds ---\n",
      "550000\n",
      "--- 82.53295016288757 seconds ---\n",
      "560000\n",
      "--- 84.1255087852478 seconds ---\n",
      "570000\n",
      "--- 85.35894322395325 seconds ---\n",
      "580000\n",
      "--- 86.97813200950623 seconds ---\n",
      "590000\n",
      "--- 88.49333477020264 seconds ---\n",
      "600000\n",
      "--- 89.86946511268616 seconds ---\n",
      "620000\n",
      "--- 92.94137859344482 seconds ---\n",
      "630000\n",
      "--- 94.29289937019348 seconds ---\n",
      "640000\n",
      "--- 95.8896279335022 seconds ---\n",
      "660000\n",
      "--- 98.82148003578186 seconds ---\n",
      "690000\n",
      "--- 103.33361840248108 seconds ---\n"
     ]
    }
   ],
   "source": [
    "from joblib import Parallel, delayed\n",
    "import time\n",
    "\n",
    "n = 300\n",
    "dZ = 1293\n",
    "\n",
    "back = pd.read_hdf('/data/viktor/data_4/hdf5-0/open0.h5')\n",
    "\n",
    "#TX\tTY\tX\tY\tZ\t\tsignal\t\n",
    "# 0 1.  2.  3.  4          5 \n",
    "back = back.drop('event_id', axis=1)\n",
    "back = back.drop('data_ind', axis=1)\n",
    "back_array = np.array(back)\n",
    "back_array_next = np.array([back_array[:, 0]*dZ + back_array[:, 2],\n",
    "                            back_array[:, 1]*dZ + back_array[:, 3],\n",
    "                            ((back_array[:, 4]//1293) + 1) * 1293]).T\n",
    "\n",
    "start_time = time.time()\n",
    "\n",
    "def my_function(i):\n",
    "    global back_array\n",
    "    global back_array_next\n",
    "    neighbors = back_array[(back_array[:, 4] < back_array_next[i, 2] + 1200) & (back_array_next[i, 2] <= back_array[:, 4])]\n",
    "    neighbors = neighbors[(neighbors[:, 2] < back_array_next[i, 0] + n) & (back_array_next[i, 0] - n < neighbors[:, 2])]\n",
    "    neighbors = neighbors[(neighbors[:, 3] < back_array_next[i, 1] + n) & (back_array_next[i, 1] - n < neighbors[:, 3])]\n",
    "\n",
    "    dist = np.sqrt((neighbors[:, 2] - back_array[i, 2]) ** 2 + (neighbors[:, 3] - back_array[i, 3]) ** 2 + (neighbors[:, 4] - back_array[i, 4]) ** 2)\n",
    "    best_neighbors = neighbors[((abs(neighbors[:, 0] - back_array[i, 0]) + abs(neighbors[:, 1] - back_array[i, 1]) + 1e-3) / (1 + dist)).argsort()[:3]]\n",
    "    if best_neighbors.shape[0] == 0:\n",
    "        local_rows = []\n",
    "        return\n",
    "    if i%10000 == 0:\n",
    "        print(i)\n",
    "        print(\"--- %s seconds ---\" % (time.time() - start_time))\n",
    "    local_rows = []\n",
    "    for neighbor in best_neighbors:\n",
    "        local_rows.append(np.concatenate([back_array[i, :], neighbor]))\n",
    "    return local_rows\n",
    "\n",
    "        \n",
    "        \n",
    "sessions_train_0 = Parallel(n_jobs=-1)(delayed(my_function)(i) for i in range(back.shape[0]))\n",
    "sessions_train_0 = [x for x in sessions_train_0 if x is not None]\n",
    "train_0 = np.concatenate(sessions_train_0)"
   ]
  },
  {
   "cell_type": "code",
   "execution_count": 92,
   "metadata": {
    "collapsed": true
   },
   "outputs": [],
   "source": [
    "train_0\n",
    "csv_y_pred = pd.DataFrame(data=train_0, columns=['TX1','TY1', 'X1', 'Y1','Z1', 'signal1', 'TX2','TY2', 'X2', 'Y2','Z2', 'signal2'])\n",
    "csv_y_pred['dZ'] = csv_y_pred.Z1 - csv_y_pred.Z2\n"
   ]
  },
  {
   "cell_type": "code",
   "execution_count": 104,
   "metadata": {},
   "outputs": [
    {
     "data": {
      "image/png": "[encoded data removed]",
      "text/plain": [
       "<matplotlib.figure.Figure at 0x7fad4a834ba8>"
      ]
     },
     "metadata": {},
     "output_type": "display_data"
    }
   ],
   "source": [
    "import matplotlib.pyplot as plt\n",
    "plt.hist((csv_y_pred['TX2'] - csv_y_pred['TX1'])[csv_y_pred['signal1'] == 1.], bins=100, normed=True);\n",
    "plt.hist((csv_y_pred['TX2'] - csv_y_pred['TX1'])[csv_y_pred['signal1'] == 0.], bins=100, normed=True, alpha=0.5);\n",
    "plt.show()"
   ]
  },
  {
   "cell_type": "code",
   "execution_count": 105,
   "metadata": {},
   "outputs": [
    {
     "data": {
      "image/png": "[encoded data removed]",
      "text/plain": [
       "<matplotlib.figure.Figure at 0x7fad4a5533c8>"
      ]
     },
     "metadata": {},
     "output_type": "display_data"
    }
   ],
   "source": [
    "plt.hist((csv_y_pred['TX2'] - csv_y_pred['TX1'])[csv_y_pred['signal1'] == 1.], bins=100);\n",
    "plt.show()"
   ]
  },
  {
   "cell_type": "code",
   "execution_count": 99,
   "metadata": {},
   "outputs": [
    {
     "data": {
      "image/png": "[encoded data removed]",
      "text/plain": [
       "<matplotlib.figure.Figure at 0x7fad4aaf2f60>"
      ]
     },
     "metadata": {},
     "output_type": "display_data"
    }
   ],
   "source": [
    "plt.hist((csv_y_pred['TX2'] - csv_y_pred['TX1'])[csv_y_pred['signal1'] == 0.], bins=100, range=(-1e-3, 1e-3));\n",
    "plt.show()"
   ]
  },
  {
   "cell_type": "code",
   "execution_count": 96,
   "metadata": {},
   "outputs": [
    {
     "data": {
      "text/plain": [
       "0.77846915061099031"
      ]
     },
     "execution_count": 96,
     "metadata": {},
     "output_type": "execute_result"
    }
   ],
   "source": [
    "first = train_0[:, 5]\n",
    "second = train_0[:, 11]\n",
    "np.sum(np.logical_and(first, second)) / np.sum(first)"
   ]
  },
  {
   "cell_type": "code",
   "execution_count": 97,
   "metadata": {},
   "outputs": [
    {
     "data": {
      "text/plain": [
       "0.9891467511865103"
      ]
     },
     "execution_count": 97,
     "metadata": {},
     "output_type": "execute_result"
    }
   ],
   "source": [
    "exp_f = np.copy(first)\n",
    "exp_f[first == 1] = 0\n",
    "exp_f[first == 0] = 1\n",
    "\n",
    "exp_s = np.copy(second)\n",
    "exp_s[second == 1] = 0\n",
    "exp_s[second == 0] = 1\n",
    "np.sum(np.logical_and(exp_f, exp_s)) / np.sum(exp_f)"
   ]
  },
  {
   "cell_type": "code",
   "execution_count": null,
   "metadata": {
    "scrolled": true
   },
   "outputs": [
    {
     "name": "stdout",
     "output_type": "stream",
     "text": [
      "0\n",
      "--- 0.5719079971313477 seconds ---\n",
      "10000\n",
      "--- 26.497391939163208 seconds ---\n",
      "20000\n",
      "--- 51.73107719421387 seconds ---\n",
      "30000\n",
      "--- 77.04500436782837 seconds ---\n",
      "40000\n",
      "--- 103.65376448631287 seconds ---\n",
      "60000\n",
      "--- 155.4562647342682 seconds ---\n",
      "70000\n",
      "--- 181.2865858078003 seconds ---\n",
      "80000\n",
      "--- 206.37181544303894 seconds ---\n",
      "90000\n",
      "--- 232.83067297935486 seconds ---\n",
      "100000\n",
      "--- 259.93927526474 seconds ---\n",
      "110000\n",
      "--- 285.6162052154541 seconds ---\n",
      "120000\n",
      "--- 310.9941146373749 seconds ---\n"
     ]
    }
   ],
   "source": [
    "back = pd.read_hdf('/data/viktor/data_4/hdf5-0/open10.h5')\n",
    "\n",
    "#TX\tTY\tX\tY\tZ\tevent_id\tsignal\tdata_ind\n",
    "back = back.drop('event_id', axis=1)\n",
    "back = back.drop('data_ind', axis=1)\n",
    "back_array = np.array(back)\n",
    "back_array_next = np.array([back_array[:, 0]*dZ + back_array[:, 2],\n",
    "                            back_array[:, 1]*dZ + back_array[:, 3],\n",
    "                            ((back_array[:, 4]//1293) + 1) * 1293]).T\n",
    "\n",
    "start_time = time.time()\n",
    "\n",
    "def my_function(i):\n",
    "    global back_array\n",
    "    global back_array_next\n",
    "    neighbors = back_array[(back_array[:, 4] < back_array_next[i, 2] + 1200) & (back_array_next[i, 2] <= back_array[:, 4])]\n",
    "    neighbors = neighbors[(neighbors[:, 2] < back_array_next[i, 0] + n) & (back_array_next[i, 0] - n < neighbors[:, 2])]\n",
    "    neighbors = neighbors[(neighbors[:, 3] < back_array_next[i, 1] + n) & (back_array_next[i, 1] - n < neighbors[:, 3])]\n",
    "\n",
    "    dist = np.sqrt((neighbors[:, 2] - back_array[i, 2]) ** 2 + (neighbors[:, 3] - back_array[i, 3]) ** 2 + (neighbors[:, 4] - back_array[i, 4]) ** 2)\n",
    "    best_neighbors = neighbors[((abs(neighbors[:, 0] - back_array[i, 0]) + abs(neighbors[:, 1] - back_array[i, 1]) + 1e-3) / (1 + dist)).argsort()[:3]]\n",
    "    if best_neighbors.shape[0] == 0:\n",
    "        local_rows = []\n",
    "        return\n",
    "    if i%100000 == 0:\n",
    "        print(i)\n",
    "        print(\"--- %s seconds ---\" % (time.time() - start_time))\n",
    "    local_rows = []\n",
    "    for neighbor in best_neighbors:\n",
    "        local_rows.append(np.concatenate([back_array[i, :], neighbor]))\n",
    "    return local_rows\n",
    "\n",
    "        \n",
    "        \n",
    "sessions_train_1 = Parallel(n_jobs=-1)(delayed(my_function)(i) for i in range(back.shape[0]))\n",
    "sessions_train_1 = [x for x in sessions_train_1 if x is not None]\n",
    "train_1 = np.concatenate(sessions_train_1)"
   ]
  },
  {
   "cell_type": "code",
   "execution_count": null,
   "metadata": {
    "collapsed": true
   },
   "outputs": [],
   "source": [
    "back = pd.read_hdf('/data/viktor/data_4/hdf5-0/open100.h5')\n",
    "\n",
    "#TX\tTY\tX\tY\tZ\tevent_id\tsignal\tdata_ind\n",
    "back = back.drop('event_id', axis=1)\n",
    "back = back.drop('data_ind', axis=1)\n",
    "back_array = np.array(back)\n",
    "back_array_next = np.array([back_array[:, 0]*dZ + back_array[:, 2],\n",
    "                            back_array[:, 1]*dZ + back_array[:, 3],\n",
    "                            ((back_array[:, 4]//1293) + 1) * 1293]).T\n",
    "\n",
    "start_time = time.time()\n",
    "\n",
    "def my_function(i):\n",
    "    global back_array\n",
    "    global back_array_next\n",
    "    neighbors = back_array[(back_array[:, 4] < back_array_next[i, 2] + 1200) & (back_array_next[i, 2] <= back_array[:, 4])]\n",
    "    neighbors = neighbors[(neighbors[:, 2] < back_array_next[i, 0] + n) & (back_array_next[i, 0] - n < neighbors[:, 2])]\n",
    "    neighbors = neighbors[(neighbors[:, 3] < back_array_next[i, 1] + n) & (back_array_next[i, 1] - n < neighbors[:, 3])]\n",
    "\n",
    "    dist = np.sqrt((neighbors[:, 2] - back_array[i, 2]) ** 2 + (neighbors[:, 3] - back_array[i, 3]) ** 2 + (neighbors[:, 4] - back_array[i, 4]) ** 2)\n",
    "    best_neighbors = neighbors[((abs(neighbors[:, 0] - back_array[i, 0]) + abs(neighbors[:, 1] - back_array[i, 1]) + 1e-3) / (1 + dist)).argsort()[:3]]\n",
    "    if best_neighbors.shape[0] == 0:\n",
    "        local_rows = []\n",
    "        return\n",
    "    if i%100000 == 0:\n",
    "        print(i)\n",
    "        print(\"--- %s seconds ---\" % (time.time() - start_time))\n",
    "    local_rows = []\n",
    "    for neighbor in best_neighbors:\n",
    "        local_rows.append(np.concatenate([back_array[i, :], neighbor]))\n",
    "    return local_rows\n",
    "        \n",
    "        \n",
    "sessions_train_2 = Parallel(n_jobs=-1)(delayed(my_function)(i) for i in range(back.shape[0]))\n",
    "sessions_train_2 = [x for x in sessions_train_2 if x is not None]\n",
    "train_2 = np.concatenate(sessions_train_2)"
   ]
  },
  {
   "cell_type": "code",
   "execution_count": null,
   "metadata": {
    "collapsed": true
   },
   "outputs": [],
   "source": [
    "back = pd.read_hdf('/data/viktor/data_4/hdf5-0/open110.h5')\n",
    "\n",
    "#TX\tTY\tX\tY\tZ\tevent_id\tsignal\tdata_ind\n",
    "back = back.drop('event_id', axis=1)\n",
    "back = back.drop('data_ind', axis=1)\n",
    "back_array = np.array(back)\n",
    "back_array_next = np.array([back_array[:, 0]*dZ + back_array[:, 2],\n",
    "                            back_array[:, 1]*dZ + back_array[:, 3],\n",
    "                            ((back_array[:, 4]//1293) + 1) * 1293]).T\n",
    "\n",
    "start_time = time.time()\n",
    "\n",
    "def my_function(i):\n",
    "    global back_array\n",
    "    global back_array_next\n",
    "    neighbors = back_array[(back_array[:, 4] < back_array_next[i, 2] + 1200) & (back_array_next[i, 2] <= back_array[:, 4])]\n",
    "    neighbors = neighbors[(neighbors[:, 2] < back_array_next[i, 0] + n) & (back_array_next[i, 0] - n < neighbors[:, 2])]\n",
    "    neighbors = neighbors[(neighbors[:, 3] < back_array_next[i, 1] + n) & (back_array_next[i, 1] - n < neighbors[:, 3])]\n",
    "\n",
    "    dist = np.sqrt((neighbors[:, 2] - back_array[i, 2]) ** 2 + (neighbors[:, 3] - back_array[i, 3]) ** 2 + (neighbors[:, 4] - back_array[i, 4]) ** 2)\n",
    "    best_neighbors = neighbors[((abs(neighbors[:, 0] - back_array[i, 0]) + abs(neighbors[:, 1] - back_array[i, 1]) + 1e-3) / (1 + dist)).argsort()[:3]]\n",
    "    if best_neighbors.shape[0] == 0:\n",
    "        local_rows = []\n",
    "        return\n",
    "    if i%100000 == 0:\n",
    "        print(i)\n",
    "        print(\"--- %s seconds ---\" % (time.time() - start_time))\n",
    "    local_rows = []\n",
    "    for neighbor in best_neighbors:\n",
    "        local_rows.append(np.concatenate([back_array[i, :], neighbor]))\n",
    "    return local_rows\n",
    "\n",
    "        \n",
    "        \n",
    "sessions_train_3 = Parallel(n_jobs=-1)(delayed(my_function)(i) for i in range(back.shape[0]))\n",
    "sessions_train_3 = [x for x in sessions_train_3 if x is not None]\n",
    "train_3 = np.concatenate(sessions_train_3)"
   ]
  },
  {
   "cell_type": "code",
   "execution_count": null,
   "metadata": {
    "collapsed": true
   },
   "outputs": [],
   "source": [
    "back = pd.read_hdf('/data/viktor/data_4/hdf5-0/open120.h5')\n",
    "\n",
    "#TX\tTY\tX\tY\tZ\tevent_id\tsignal\tdata_ind\n",
    "back = back.drop('event_id', axis=1)\n",
    "back = back.drop('data_ind', axis=1)\n",
    "back_array = np.array(back)\n",
    "back_array_next = np.array([back_array[:, 0]*dZ + back_array[:, 2],\n",
    "                            back_array[:, 1]*dZ + back_array[:, 3],\n",
    "                            ((back_array[:, 4]//1293) + 1) * 1293]).T\n",
    "\n",
    "start_time = time.time()\n",
    "\n",
    "def my_function(i):\n",
    "    global back_array\n",
    "    global back_array_next\n",
    "    neighbors = back_array[(back_array[:, 4] < back_array_next[i, 2] + 1200) & (back_array_next[i, 2] <= back_array[:, 4])]\n",
    "    neighbors = neighbors[(neighbors[:, 2] < back_array_next[i, 0] + n) & (back_array_next[i, 0] - n < neighbors[:, 2])]\n",
    "    neighbors = neighbors[(neighbors[:, 3] < back_array_next[i, 1] + n) & (back_array_next[i, 1] - n < neighbors[:, 3])]\n",
    "\n",
    "    dist = np.sqrt((neighbors[:, 2] - back_array[i, 2]) ** 2 + (neighbors[:, 3] - back_array[i, 3]) ** 2 + (neighbors[:, 4] - back_array[i, 4]) ** 2)\n",
    "    best_neighbors = neighbors[((abs(neighbors[:, 0] - back_array[i, 0]) + abs(neighbors[:, 1] - back_array[i, 1]) + 1e-3) / (1 + dist)).argsort()[:3]]\n",
    "    if best_neighbors.shape[0] == 0:\n",
    "        local_rows = []\n",
    "        return\n",
    "    if i%100000 == 0:\n",
    "        print(i)\n",
    "        print(\"--- %s seconds ---\" % (time.time() - start_time))\n",
    "    local_rows = []\n",
    "    for neighbor in best_neighbors:\n",
    "        local_rows.append(np.concatenate([back_array[i, :], neighbor]))\n",
    "    return local_rows\n",
    "\n",
    "        \n",
    "        \n",
    "sessions_train_4 = Parallel(n_jobs=-1)(delayed(my_function)(i) for i in range(back.shape[0]))\n",
    "sessions_train_4 = [x for x in sessions_train_4 if x is not None]\n",
    "train_4 = np.concatenate(sessions_train_4)"
   ]
  },
  {
   "cell_type": "code",
   "execution_count": null,
   "metadata": {
    "collapsed": true
   },
   "outputs": [],
   "source": [
    "train_0 = np.vstack((train_0, train_1, train_2, train_3, train_4))\n",
    "csv_y_pred = pd.DataFrame(data=train_0, columns=['TX1','TY1', 'X1', 'Y1','Z1', 'signal1', 'TX2','TY2', 'X2', 'Y2','Z2', 'signal2'])\n",
    "csv_y_pred['dTX'] = csv_y_pred.TX1 - csv_y_pred.TX2\n",
    "csv_y_pred['dTY'] = csv_y_pred.TY1 - csv_y_pred.TY2\n",
    "csv_y_pred['dX'] = csv_y_pred.X1 - csv_y_pred.X2\n",
    "csv_y_pred['dY'] = csv_y_pred.Y1 - csv_y_pred.Y2\n",
    "csv_y_pred['dZ'] = csv_y_pred.Z1 - csv_y_pred.Z2"
   ]
  },
  {
   "cell_type": "code",
   "execution_count": null,
   "metadata": {
    "collapsed": true
   },
   "outputs": [],
   "source": [
    "csv_y_pred.to_csv('/data/viktor/data_4/hdf5-0/train.csv', index=False)"
   ]
  },
  {
   "cell_type": "code",
   "execution_count": 8,
   "metadata": {
    "collapsed": true
   },
   "outputs": [],
   "source": [
    "n = 300\n",
    "dZ = 1293"
   ]
  },
  {
   "cell_type": "code",
   "execution_count": null,
   "metadata": {
    "scrolled": true
   },
   "outputs": [
    {
     "name": "stdout",
     "output_type": "stream",
     "text": [
      "0\n",
      "--- 0.7742631435394287 seconds ---\n"
     ]
    }
   ],
   "source": [
    "#TX\tTY\tX\tY\tZ\n",
    "n = 300\n",
    "from joblib import Parallel, delayed\n",
    "import time\n",
    "\n",
    "\n",
    "global test_rows\n",
    "global test_array\n",
    "global test_array_next\n",
    "test_rows = []\n",
    "test = pd.read_hdf('/data/viktor/data_4/test_close10.h5')\n",
    "test_0 = pd.read_hdf('/data/viktor/data_4/test_close0.h5')\n",
    "frames = [test_0, test]\n",
    "test = pd.concat(frames, ignore_index=True)\n",
    "test = test.drop('data_ind', axis=1)\n",
    "test['index'] = test.index\n",
    "test_array = np.array(test)\n",
    "test_array_next = np.array([test_array[:, 0]*dZ + test_array[:, 2],\n",
    "                            test_array[:, 1]*dZ + test_array[:, 3],\n",
    "                            ((test_array[:, 4]//1293) + 1) * 1293]).T\n",
    "\n",
    "start_time = time.time()\n",
    "\n",
    "def my_function(i):\n",
    "    global test_rows\n",
    "    global test_array\n",
    "    global test_array_next\n",
    "    neighbors = test_array[(test_array[:, 4] < test_array_next[i, 2] + 1200) & \n",
    "                           (test_array_next[i, 2] <= test_array[:, 4])]\n",
    "    neighbors = neighbors[(neighbors[:, 2] < test_array_next[i, 0] + n) & \n",
    "                          (test_array_next[i, 0] - n < neighbors[:, 2])]\n",
    "    neighbors = neighbors[(neighbors[:, 3] < test_array_next[i, 1] + n) & \n",
    "                          (test_array_next[i, 1] - n < neighbors[:, 3])]\n",
    "\n",
    "    dist = np.sqrt((neighbors[:, 2] - test_array[i, 2]) ** 2 + (neighbors[:, 3] - test_array[i, 3]) ** 2 + (neighbors[:, 4] - test_array[i, 4]) ** 2)\n",
    "    best_neighbors = neighbors[((abs(neighbors[:, 0] - test_array[i, 0]) + abs(neighbors[:, 1] - test_array[i, 1]) + 1e-3) / (1 + dist)).argsort()[:3]]\n",
    "    if best_neighbors.shape[0] == 0:\n",
    "        local_rows = []\n",
    "        return\n",
    "    if i%100000 == 0:\n",
    "        print(i)\n",
    "        print(\"--- %s seconds ---\" % (time.time() - start_time))\n",
    "    local_rows = []\n",
    "    for neighbor in best_neighbors:\n",
    "        local_rows.append(np.concatenate([test_array[i, :], neighbor]))\n",
    "    return local_rows\n",
    "\n",
    "\n",
    "        \n",
    "        \n",
    "sessions = Parallel(n_jobs=-1)(delayed(my_function)(i) for i in range(test_array.shape[0])) #test_array.shape[0]\n"
   ]
  },
  {
   "cell_type": "code",
   "execution_count": null,
   "metadata": {
    "collapsed": true
   },
   "outputs": [],
   "source": [
    "ind_pred = []\n",
    "zero_ind = []\n",
    "test = []\n",
    "for i in range(len(sessions)):\n",
    "    if sessions[i] is not None:\n",
    "        ind_pred.append(i)\n",
    "        test.append(sessions[i])\n",
    "    else:\n",
    "        zero_ind.append(i)"
   ]
  },
  {
   "cell_type": "code",
   "execution_count": null,
   "metadata": {
    "collapsed": true
   },
   "outputs": [],
   "source": [
    "csv_y_pred_test = pd.DataFrame(data=ind_pred)\n",
    "csv_y_pred_test.to_csv('/data/viktor/data_4/hdf5-0/ind_pred.csv', index=False)\n",
    "\n",
    "csv_y_pred_test = pd.DataFrame(data=zero_ind)\n",
    "csv_y_pred_test.to_csv('/data/viktor/data_4/hdf5-0/zero_ind.csv', index=False)"
   ]
  },
  {
   "cell_type": "code",
   "execution_count": null,
   "metadata": {
    "collapsed": true
   },
   "outputs": [],
   "source": [
    "test = np.concatenate(test)\n",
    "csv_y_pred_test = pd.DataFrame(data=test, columns=['TX1','TY1', 'X1', 'Y1','Z1','index1', 'TX2','TY2', 'X2', 'Y2','Z2', 'index2'])\n",
    "csv_y_pred_test['dTX'] = csv_y_pred_test.TX1 - csv_y_pred_test.TX2\n",
    "csv_y_pred_test['dTY'] = csv_y_pred_test.TY1 - csv_y_pred_test.TY2\n",
    "csv_y_pred_test['dX'] = csv_y_pred_test.X1 - csv_y_pred_test.X2\n",
    "csv_y_pred_test['dY'] = csv_y_pred_test.Y1 - csv_y_pred_test.Y2\n",
    "csv_y_pred_test['dZ'] = csv_y_pred_test.Z1 - csv_y_pred_test.Z2\n",
    "csv_y_pred_test.to_csv('/data/viktor/data_4/hdf5-0/test.csv', index=False)"
   ]
  },
  {
   "cell_type": "code",
   "execution_count": 9,
   "metadata": {},
   "outputs": [],
   "source": [
    "test_final = pd.read_csv('/data/viktor/data_4/hdf5-0/test.csv')\n",
    "test_final = test_final.drop('index1', axis=1)\n",
    "test_final = test_final.drop('index2', axis=1)\n",
    "test_final = np.array(test_final)\n",
    "# test_final = test[:, [0, 1, 2, 3, 4, 6, 7, 8, 9, 10, 12, 13, 14, 15, 16]]"
   ]
  },
  {
   "cell_type": "code",
   "execution_count": 5,
   "metadata": {},
   "outputs": [],
   "source": [
    "csv_y_pred = pd.read_csv('/data/viktor/data_4/hdf5-0/train.csv', nrows=10000000)\n",
    "train = np.array(csv_y_pred)"
   ]
  },
  {
   "cell_type": "code",
   "execution_count": 6,
   "metadata": {
    "collapsed": true
   },
   "outputs": [],
   "source": [
    "csv_y_pred = pd.read_csv('/data/viktor/data_4/hdf5-0/trainCV.csv', nrows=1000000)\n",
    "trainCV = np.array(csv_y_pred)\n",
    "x_val = trainCV[:, [0, 1, 2, 3, 4, 6, 7, 8, 9, 10, 12, 13, 14, 15, 16]]\n",
    "# y_val = trainCV[:, 5]\n",
    "y_val = np.logical_and(trainCV[:, 5], trainCV[:, 11])"
   ]
  },
  {
   "cell_type": "code",
   "execution_count": 70,
   "metadata": {
    "collapsed": true
   },
   "outputs": [],
   "source": [
    "del csv_y_pred, trainCV\n",
    "# del test, test_0, test_array, test_array_next, test_rows"
   ]
  },
  {
   "cell_type": "code",
   "execution_count": 23,
   "metadata": {
    "scrolled": true
   },
   "outputs": [
    {
     "name": "stdout",
     "output_type": "stream",
     "text": [
      "[0]\tvalidation_0-auc:0.717847\n",
      "Will train until validation_0-auc hasn't improved in 30 rounds.\n",
      "[1]\tvalidation_0-auc:0.75441\n",
      "[2]\tvalidation_0-auc:0.803601\n",
      "[3]\tvalidation_0-auc:0.813912\n",
      "[4]\tvalidation_0-auc:0.82853\n",
      "[5]\tvalidation_0-auc:0.825525\n",
      "[6]\tvalidation_0-auc:0.810435\n",
      "[7]\tvalidation_0-auc:0.799984\n",
      "[8]\tvalidation_0-auc:0.82179\n",
      "[9]\tvalidation_0-auc:0.822441\n",
      "[10]\tvalidation_0-auc:0.82688\n",
      "[11]\tvalidation_0-auc:0.817589\n",
      "[12]\tvalidation_0-auc:0.818879\n",
      "[13]\tvalidation_0-auc:0.825499\n",
      "[14]\tvalidation_0-auc:0.831091\n",
      "[15]\tvalidation_0-auc:0.826654\n",
      "[16]\tvalidation_0-auc:0.823146\n",
      "[17]\tvalidation_0-auc:0.829582\n",
      "[18]\tvalidation_0-auc:0.83424\n",
      "[19]\tvalidation_0-auc:0.832413\n",
      "[20]\tvalidation_0-auc:0.833199\n",
      "[21]\tvalidation_0-auc:0.830786\n",
      "[22]\tvalidation_0-auc:0.832537\n",
      "[23]\tvalidation_0-auc:0.837472\n",
      "[24]\tvalidation_0-auc:0.838902\n",
      "[25]\tvalidation_0-auc:0.836367\n",
      "[26]\tvalidation_0-auc:0.841507\n",
      "[27]\tvalidation_0-auc:0.840821\n",
      "[28]\tvalidation_0-auc:0.842669\n",
      "[29]\tvalidation_0-auc:0.84797\n",
      "[30]\tvalidation_0-auc:0.844301\n",
      "[31]\tvalidation_0-auc:0.847644\n",
      "[32]\tvalidation_0-auc:0.850838\n",
      "[33]\tvalidation_0-auc:0.851637\n",
      "[34]\tvalidation_0-auc:0.851235\n",
      "[35]\tvalidation_0-auc:0.853285\n",
      "[36]\tvalidation_0-auc:0.856934\n",
      "[37]\tvalidation_0-auc:0.857656\n",
      "[38]\tvalidation_0-auc:0.862875\n",
      "[39]\tvalidation_0-auc:0.868036\n",
      "[40]\tvalidation_0-auc:0.866382\n",
      "[41]\tvalidation_0-auc:0.870084\n",
      "[42]\tvalidation_0-auc:0.874514\n",
      "[43]\tvalidation_0-auc:0.87832\n",
      "[44]\tvalidation_0-auc:0.875921\n",
      "[45]\tvalidation_0-auc:0.879515\n",
      "[46]\tvalidation_0-auc:0.881385\n",
      "[47]\tvalidation_0-auc:0.879351\n",
      "[48]\tvalidation_0-auc:0.881793\n",
      "[49]\tvalidation_0-auc:0.883513\n",
      "[50]\tvalidation_0-auc:0.881795\n",
      "[51]\tvalidation_0-auc:0.883677\n",
      "[52]\tvalidation_0-auc:0.885767\n",
      "[53]\tvalidation_0-auc:0.882726\n",
      "[54]\tvalidation_0-auc:0.884723\n",
      "[55]\tvalidation_0-auc:0.886741\n",
      "[56]\tvalidation_0-auc:0.884444\n",
      "[57]\tvalidation_0-auc:0.885608\n",
      "[58]\tvalidation_0-auc:0.886063\n",
      "[59]\tvalidation_0-auc:0.887233\n",
      "[60]\tvalidation_0-auc:0.887169\n",
      "[61]\tvalidation_0-auc:0.889153\n",
      "[62]\tvalidation_0-auc:0.886322\n",
      "[63]\tvalidation_0-auc:0.884795\n",
      "[64]\tvalidation_0-auc:0.885427\n",
      "[65]\tvalidation_0-auc:0.88578\n",
      "[66]\tvalidation_0-auc:0.887092\n",
      "[67]\tvalidation_0-auc:0.888587\n",
      "[68]\tvalidation_0-auc:0.887059\n",
      "[69]\tvalidation_0-auc:0.887608\n",
      "[70]\tvalidation_0-auc:0.887829\n",
      "[71]\tvalidation_0-auc:0.888858\n",
      "[72]\tvalidation_0-auc:0.889398\n",
      "[73]\tvalidation_0-auc:0.889743\n",
      "[74]\tvalidation_0-auc:0.887727\n",
      "[75]\tvalidation_0-auc:0.888969\n",
      "[76]\tvalidation_0-auc:0.889361\n",
      "[77]\tvalidation_0-auc:0.889899\n",
      "[78]\tvalidation_0-auc:0.890355\n",
      "[79]\tvalidation_0-auc:0.891446\n",
      "[80]\tvalidation_0-auc:0.891874\n",
      "[81]\tvalidation_0-auc:0.892587\n",
      "[82]\tvalidation_0-auc:0.893031\n",
      "[83]\tvalidation_0-auc:0.893645\n",
      "[84]\tvalidation_0-auc:0.894581\n",
      "[85]\tvalidation_0-auc:0.895066\n",
      "[86]\tvalidation_0-auc:0.895495\n",
      "[87]\tvalidation_0-auc:0.895751\n",
      "[88]\tvalidation_0-auc:0.896774\n",
      "[89]\tvalidation_0-auc:0.897466\n",
      "[90]\tvalidation_0-auc:0.896578\n",
      "[91]\tvalidation_0-auc:0.897095\n",
      "[92]\tvalidation_0-auc:0.89705\n",
      "[93]\tvalidation_0-auc:0.897201\n",
      "[94]\tvalidation_0-auc:0.898028\n",
      "[95]\tvalidation_0-auc:0.898354\n",
      "[96]\tvalidation_0-auc:0.898605\n",
      "[97]\tvalidation_0-auc:0.899512\n",
      "[98]\tvalidation_0-auc:0.897842\n",
      "[99]\tvalidation_0-auc:0.897994\n",
      "[100]\tvalidation_0-auc:0.898616\n",
      "[101]\tvalidation_0-auc:0.899097\n",
      "[102]\tvalidation_0-auc:0.899694\n",
      "[103]\tvalidation_0-auc:0.899817\n",
      "[104]\tvalidation_0-auc:0.900537\n",
      "[105]\tvalidation_0-auc:0.901096\n",
      "[106]\tvalidation_0-auc:0.901783\n",
      "[107]\tvalidation_0-auc:0.902551\n",
      "[108]\tvalidation_0-auc:0.903111\n",
      "[109]\tvalidation_0-auc:0.903304\n",
      "[110]\tvalidation_0-auc:0.903367\n",
      "[111]\tvalidation_0-auc:0.904067\n",
      "[112]\tvalidation_0-auc:0.904522\n",
      "[113]\tvalidation_0-auc:0.905116\n",
      "[114]\tvalidation_0-auc:0.905579\n",
      "[115]\tvalidation_0-auc:0.904774\n",
      "[116]\tvalidation_0-auc:0.905254\n",
      "[117]\tvalidation_0-auc:0.9056\n",
      "[118]\tvalidation_0-auc:0.905921\n",
      "[119]\tvalidation_0-auc:0.906116\n",
      "[120]\tvalidation_0-auc:0.905478\n",
      "[121]\tvalidation_0-auc:0.905598\n",
      "[122]\tvalidation_0-auc:0.906048\n",
      "[123]\tvalidation_0-auc:0.906415\n",
      "[124]\tvalidation_0-auc:0.906927\n",
      "[125]\tvalidation_0-auc:0.906579\n",
      "[126]\tvalidation_0-auc:0.90669\n",
      "[127]\tvalidation_0-auc:0.907263\n",
      "[128]\tvalidation_0-auc:0.907616\n",
      "[129]\tvalidation_0-auc:0.906902\n",
      "[130]\tvalidation_0-auc:0.907101\n",
      "[131]\tvalidation_0-auc:0.907359\n",
      "[132]\tvalidation_0-auc:0.907266\n",
      "[133]\tvalidation_0-auc:0.907196\n",
      "[134]\tvalidation_0-auc:0.907286\n",
      "[135]\tvalidation_0-auc:0.90712\n",
      "[136]\tvalidation_0-auc:0.906806\n",
      "[137]\tvalidation_0-auc:0.906945\n",
      "[138]\tvalidation_0-auc:0.907273\n",
      "[139]\tvalidation_0-auc:0.907662\n",
      "[140]\tvalidation_0-auc:0.908046\n",
      "[141]\tvalidation_0-auc:0.907953\n",
      "[142]\tvalidation_0-auc:0.908444\n",
      "[143]\tvalidation_0-auc:0.908308\n",
      "[144]\tvalidation_0-auc:0.90855\n",
      "[145]\tvalidation_0-auc:0.908539\n",
      "[146]\tvalidation_0-auc:0.908786\n",
      "[147]\tvalidation_0-auc:0.908964\n",
      "[148]\tvalidation_0-auc:0.909336\n",
      "[149]\tvalidation_0-auc:0.909591\n",
      "[150]\tvalidation_0-auc:0.91\n",
      "[151]\tvalidation_0-auc:0.908886\n",
      "[152]\tvalidation_0-auc:0.909097\n",
      "[153]\tvalidation_0-auc:0.909528\n",
      "[154]\tvalidation_0-auc:0.909808\n",
      "[155]\tvalidation_0-auc:0.910252\n",
      "[156]\tvalidation_0-auc:0.910138\n",
      "[157]\tvalidation_0-auc:0.910174\n",
      "[158]\tvalidation_0-auc:0.909867\n",
      "[159]\tvalidation_0-auc:0.909956\n",
      "[160]\tvalidation_0-auc:0.91037\n",
      "[161]\tvalidation_0-auc:0.910751\n",
      "[162]\tvalidation_0-auc:0.91095\n",
      "[163]\tvalidation_0-auc:0.909277\n",
      "[164]\tvalidation_0-auc:0.90938\n",
      "[165]\tvalidation_0-auc:0.909772\n",
      "[166]\tvalidation_0-auc:0.909658\n",
      "[167]\tvalidation_0-auc:0.909813\n",
      "[168]\tvalidation_0-auc:0.908826\n",
      "[169]\tvalidation_0-auc:0.909141\n",
      "[170]\tvalidation_0-auc:0.909587\n",
      "[171]\tvalidation_0-auc:0.909665\n",
      "[172]\tvalidation_0-auc:0.909654\n",
      "[173]\tvalidation_0-auc:0.909722\n",
      "[174]\tvalidation_0-auc:0.910081\n",
      "[175]\tvalidation_0-auc:0.910604\n",
      "[176]\tvalidation_0-auc:0.909551\n",
      "[177]\tvalidation_0-auc:0.909696\n",
      "[178]\tvalidation_0-auc:0.908752\n",
      "[179]\tvalidation_0-auc:0.908904\n",
      "[180]\tvalidation_0-auc:0.909251\n",
      "[181]\tvalidation_0-auc:0.909531\n",
      "[182]\tvalidation_0-auc:0.909216\n",
      "[183]\tvalidation_0-auc:0.909174\n",
      "[184]\tvalidation_0-auc:0.909414\n",
      "[185]\tvalidation_0-auc:0.909966\n",
      "[186]\tvalidation_0-auc:0.910236\n",
      "[187]\tvalidation_0-auc:0.91042\n",
      "[188]\tvalidation_0-auc:0.910609\n",
      "[189]\tvalidation_0-auc:0.91078\n",
      "[190]\tvalidation_0-auc:0.911151\n",
      "[191]\tvalidation_0-auc:0.911263\n",
      "[192]\tvalidation_0-auc:0.91108\n",
      "[193]\tvalidation_0-auc:0.911307\n",
      "[194]\tvalidation_0-auc:0.911394\n",
      "[195]\tvalidation_0-auc:0.911551\n",
      "[196]\tvalidation_0-auc:0.911607\n",
      "[197]\tvalidation_0-auc:0.911468\n",
      "[198]\tvalidation_0-auc:0.911803\n",
      "[199]\tvalidation_0-auc:0.91191\n",
      "[200]\tvalidation_0-auc:0.912083\n",
      "[201]\tvalidation_0-auc:0.912334\n",
      "[202]\tvalidation_0-auc:0.912275\n",
      "[203]\tvalidation_0-auc:0.912514\n",
      "[204]\tvalidation_0-auc:0.91264\n",
      "[205]\tvalidation_0-auc:0.912731\n",
      "[206]\tvalidation_0-auc:0.912874\n",
      "[207]\tvalidation_0-auc:0.911735\n",
      "[208]\tvalidation_0-auc:0.912231\n",
      "[209]\tvalidation_0-auc:0.912384\n",
      "[210]\tvalidation_0-auc:0.91271\n",
      "[211]\tvalidation_0-auc:0.912819\n",
      "[212]\tvalidation_0-auc:0.913013\n",
      "[213]\tvalidation_0-auc:0.913134\n",
      "[214]\tvalidation_0-auc:0.913501\n",
      "[215]\tvalidation_0-auc:0.913581\n",
      "[216]\tvalidation_0-auc:0.913539\n",
      "[217]\tvalidation_0-auc:0.91354\n",
      "[218]\tvalidation_0-auc:0.913506\n",
      "[219]\tvalidation_0-auc:0.913756\n",
      "[220]\tvalidation_0-auc:0.913999\n",
      "[221]\tvalidation_0-auc:0.914085\n",
      "[222]\tvalidation_0-auc:0.914663\n",
      "[223]\tvalidation_0-auc:0.913701\n",
      "[224]\tvalidation_0-auc:0.91336\n",
      "[225]\tvalidation_0-auc:0.913646\n",
      "[226]\tvalidation_0-auc:0.913349\n",
      "[227]\tvalidation_0-auc:0.913381\n",
      "[228]\tvalidation_0-auc:0.913496\n",
      "[229]\tvalidation_0-auc:0.913779\n",
      "[230]\tvalidation_0-auc:0.91375\n",
      "[231]\tvalidation_0-auc:0.913929\n",
      "[232]\tvalidation_0-auc:0.914004\n",
      "[233]\tvalidation_0-auc:0.914425\n",
      "[234]\tvalidation_0-auc:0.914636\n",
      "[235]\tvalidation_0-auc:0.913799\n",
      "[236]\tvalidation_0-auc:0.91381\n",
      "[237]\tvalidation_0-auc:0.91394\n",
      "[238]\tvalidation_0-auc:0.91401\n",
      "[239]\tvalidation_0-auc:0.914154\n",
      "[240]\tvalidation_0-auc:0.914428\n",
      "[241]\tvalidation_0-auc:0.914454\n",
      "[242]\tvalidation_0-auc:0.914885\n",
      "[243]\tvalidation_0-auc:0.915066\n",
      "[244]\tvalidation_0-auc:0.915187\n",
      "[245]\tvalidation_0-auc:0.915277\n",
      "[246]\tvalidation_0-auc:0.91517\n",
      "[247]\tvalidation_0-auc:0.915127\n",
      "[248]\tvalidation_0-auc:0.915205\n",
      "[249]\tvalidation_0-auc:0.915286\n",
      "[250]\tvalidation_0-auc:0.915391\n",
      "[251]\tvalidation_0-auc:0.91546\n",
      "[252]\tvalidation_0-auc:0.915524\n",
      "[253]\tvalidation_0-auc:0.914942\n",
      "[254]\tvalidation_0-auc:0.915378\n",
      "[255]\tvalidation_0-auc:0.914906\n",
      "[256]\tvalidation_0-auc:0.913882\n",
      "[257]\tvalidation_0-auc:0.913965\n",
      "[258]\tvalidation_0-auc:0.913472\n"
     ]
    },
    {
     "name": "stdout",
     "output_type": "stream",
     "text": [
      "[259]\tvalidation_0-auc:0.913411\n",
      "[260]\tvalidation_0-auc:0.913595\n",
      "[261]\tvalidation_0-auc:0.913931\n",
      "[262]\tvalidation_0-auc:0.913316\n",
      "[263]\tvalidation_0-auc:0.913462\n",
      "[264]\tvalidation_0-auc:0.91363\n",
      "[265]\tvalidation_0-auc:0.913742\n",
      "[266]\tvalidation_0-auc:0.913803\n",
      "[267]\tvalidation_0-auc:0.913519\n",
      "[268]\tvalidation_0-auc:0.913595\n",
      "[269]\tvalidation_0-auc:0.913175\n",
      "[270]\tvalidation_0-auc:0.913465\n",
      "[271]\tvalidation_0-auc:0.913193\n",
      "[272]\tvalidation_0-auc:0.913343\n",
      "[273]\tvalidation_0-auc:0.913462\n",
      "[274]\tvalidation_0-auc:0.91399\n",
      "[275]\tvalidation_0-auc:0.914234\n",
      "[276]\tvalidation_0-auc:0.91428\n",
      "[277]\tvalidation_0-auc:0.914208\n",
      "[278]\tvalidation_0-auc:0.914447\n",
      "[279]\tvalidation_0-auc:0.914562\n",
      "[280]\tvalidation_0-auc:0.914877\n",
      "[281]\tvalidation_0-auc:0.914919\n",
      "[282]\tvalidation_0-auc:0.914977\n",
      "Stopping. Best iteration:\n",
      "[252]\tvalidation_0-auc:0.915524\n",
      "\n"
     ]
    },
    {
     "data": {
      "text/plain": [
       "XGBClassifier(base_score=0.5, booster='gbtree', colsample_bylevel=1,\n",
       "       colsample_bytree=1, gamma=0, learning_rate=0.1, max_delta_step=0,\n",
       "       max_depth=3, min_child_weight=1, missing=None, n_estimators=500,\n",
       "       n_features=45, n_informative=5, n_jobs=-1, n_redundant=25,\n",
       "       n_samples=2500, nthread=None, objective='binary:logistic',\n",
       "       random_state=0, reg_alpha=0, reg_lambda=1, scale_pos_weight=1,\n",
       "       seed=None, silent=True, subsample=1)"
      ]
     },
     "execution_count": 23,
     "metadata": {},
     "output_type": "execute_result"
    }
   ],
   "source": [
    "from xgboost import XGBClassifier\n",
    "\n",
    "target_train = np.logical_and(train[:, 5], train[:, 11])\n",
    "\n",
    "model = XGBClassifier(n_jobs=-1,n_estimators=500, n_samples=2500, n_features=45, n_informative=5, n_redundant=25)\n",
    "model.fit(train[:, [0, 1, 2, 3, 4, 6, 7, 8, 9, 10, 12, 13, 14, 15, 16]], target_train, eval_set=[(x_val, y_val)], \n",
    "          eval_metric=\"auc\", early_stopping_rounds=30, verbose=True)"
   ]
  },
  {
   "cell_type": "code",
   "execution_count": 32,
   "metadata": {},
   "outputs": [
    {
     "data": {
      "text/plain": [
       "0.917779"
      ]
     },
     "execution_count": 32,
     "metadata": {},
     "output_type": "execute_result"
    }
   ],
   "source": [
    "model.best_score"
   ]
  },
  {
   "cell_type": "code",
   "execution_count": 33,
   "metadata": {
    "collapsed": true
   },
   "outputs": [],
   "source": [
    "predicted = model.predict_proba(test_final)"
   ]
  },
  {
   "cell_type": "code",
   "execution_count": 14,
   "metadata": {
    "collapsed": true
   },
   "outputs": [],
   "source": [
    "count = []\n",
    "i = 0\n",
    "while  i  < test_final.shape[0] - 1:\n",
    "    if i == test_final.shape[0] - 1:\n",
    "        break\n",
    "    c = 1\n",
    "    while np.all(np.equal(test_final[i, [0, 1, 2, 3, 4]], test_final[i + 1, [0, 1, 2, 3, 4]])):\n",
    "        i += 1\n",
    "        c += 1\n",
    "        if i == test_final.shape[0] - 1:\n",
    "            break\n",
    "    count.append(c)\n",
    "    i += 1"
   ]
  },
  {
   "cell_type": "code",
   "execution_count": 15,
   "metadata": {
    "collapsed": true
   },
   "outputs": [],
   "source": [
    "count_array = np.array(count)"
   ]
  },
  {
   "cell_type": "code",
   "execution_count": 34,
   "metadata": {},
   "outputs": [],
   "source": [
    "j = 0\n",
    "predicted_ready = np.zeros(count_array.shape[0])\n",
    "for i in range(count_array.shape[0]):\n",
    "    k = count_array[i]\n",
    "    try:\n",
    "        predicted_ready[i] = np.max(predicted[j:j + k,1])\n",
    "    except:\n",
    "        print(j, k, j+k)\n",
    "        break\n",
    "    j += k"
   ]
  },
  {
   "cell_type": "code",
   "execution_count": 21,
   "metadata": {
    "collapsed": true
   },
   "outputs": [],
   "source": [
    "ind_pred = pd.read_csv('/data/viktor/data_4/hdf5-0/ind_pred.csv')\n",
    "indices_zero = pd.read_csv('/data/viktor/data_4/hdf5-0/zero_ind.csv')"
   ]
  },
  {
   "cell_type": "code",
   "execution_count": 35,
   "metadata": {},
   "outputs": [
    {
     "name": "stderr",
     "output_type": "stream",
     "text": [
      "/opt/conda/anaconda3/lib/python3.6/site-packages/ipykernel_launcher.py:15: SettingWithCopyWarning: \n",
      "A value is trying to be set on a copy of a slice from a DataFrame\n",
      "\n",
      "See the caveats in the documentation: http://pandas.pydata.org/pandas-docs/stable/indexing.html#indexing-view-versus-copy\n",
      "  from ipykernel import kernelapp as app\n"
     ]
    }
   ],
   "source": [
    "# ind_pred = pd.DataFrame(ind_pred)\n",
    "# indices_zero = pd.DataFrame(zero_ind)\n",
    "\n",
    "csv_y_pred = pd.DataFrame(data=predicted_ready[:-1])\n",
    "csv_y_pred = pd.concat([ind_pred, csv_y_pred], axis=1)\n",
    "\n",
    "csv_y_pred_zero = pd.DataFrame(data=np.zeros(len(indices_zero)))\n",
    "csv_y_pred_zero = pd.concat([indices_zero, csv_y_pred_zero], axis=1)\n",
    "\n",
    "frames = [csv_y_pred, csv_y_pred_zero]\n",
    "csv_y_pred = pd.concat(frames, ignore_index=True)\n",
    "csv_y_pred.columns = ['id', 'signal']\n",
    "\n",
    "csv_y_pred = csv_y_pred.sort_values(\"id\")\n",
    "csv_y_pred.signal[7542117] = 0\n",
    "\n",
    "csv_y_pred.to_csv('/data/viktor/data_4/hdf5-0/answers_pair.csv', index=False)"
   ]
  },
  {
   "cell_type": "code",
   "execution_count": null,
   "metadata": {},
   "outputs": [
    {
     "name": "stdout",
     "output_type": "stream",
     "text": [
      "0\n",
      "--- 0.4155855178833008 seconds ---\n"
     ]
    }
   ],
   "source": [
    "n = 300\n",
    "\n",
    "back = pd.read_hdf('/data/viktor/data_4/hdf5-0/open130.h5')\n",
    "\n",
    "#TX\tTY\tX\tY\tZ\tevent_id\tsignal\tdata_ind\n",
    "back = back.drop('event_id', axis=1)\n",
    "back = back.drop('data_ind', axis=1)\n",
    "back_array = np.array(back)\n",
    "back_array_next = np.array([back_array[:, 0]*dZ + back_array[:, 2],\n",
    "                            back_array[:, 1]*dZ + back_array[:, 3],\n",
    "                            ((back_array[:, 4]//1293) + 1) * 1293]).T\n",
    "\n",
    "start_time = time.time()\n",
    "\n",
    "def my_function(i):\n",
    "    global back_array\n",
    "    global back_array_next\n",
    "    neighbors = back_array[(back_array[:, 4] < back_array_next[i, 2] + 1200) & (back_array_next[i, 2] <= back_array[:, 4])]\n",
    "    neighbors = neighbors[(neighbors[:, 2] < back_array_next[i, 0] + n) & (back_array_next[i, 0] - n < neighbors[:, 2])]\n",
    "    neighbors = neighbors[(neighbors[:, 3] < back_array_next[i, 1] + n) & (back_array_next[i, 1] - n < neighbors[:, 3])]\n",
    "\n",
    "    dist = np.sqrt((neighbors[:, 2] - back_array[i, 2]) ** 2 + (neighbors[:, 3] - back_array[i, 3]) ** 2 + (neighbors[:, 4] - back_array[i, 4]) ** 2)\n",
    "    best_neighbors = neighbors[((abs(neighbors[:, 0] - back_array[i, 0]) + abs(neighbors[:, 1] - back_array[i, 1]) + 1e-3) / (1 + dist)).argsort()[:3]]\n",
    "    if best_neighbors.shape[0] == 0:\n",
    "        local_rows = []\n",
    "        return\n",
    "    if i%100000 == 0:\n",
    "        print(i)\n",
    "        print(\"--- %s seconds ---\" % (time.time() - start_time))\n",
    "    local_rows = []\n",
    "    for neighbor in best_neighbors:\n",
    "        local_rows.append(np.concatenate([back_array[i, :], neighbor]))\n",
    "    return local_rows\n",
    "\n",
    "        \n",
    "        \n",
    "sessions_trainCV_0 = Parallel(n_jobs=-1)(delayed(my_function)(i) for i in range(back.shape[0]))\n",
    "sessions_trainCV_0 = [x for x in sessions_trainCV_0 if x is not None]\n",
    "trainCV_0 = np.concatenate(sessions_trainCV_0)"
   ]
  },
  {
   "cell_type": "code",
   "execution_count": null,
   "metadata": {
    "collapsed": true
   },
   "outputs": [],
   "source": [
    "n = 300\n",
    "\n",
    "back = pd.read_hdf('/data/viktor/data_4/hdf5-0/open140.h5')\n",
    "\n",
    "#TX\tTY\tX\tY\tZ\tevent_id\tsignal\tdata_ind\n",
    "back = back.drop('event_id', axis=1)\n",
    "back = back.drop('data_ind', axis=1)\n",
    "back_array = np.array(back)\n",
    "back_array_next = np.array([back_array[:, 0]*dZ + back_array[:, 2],\n",
    "                            back_array[:, 1]*dZ + back_array[:, 3],\n",
    "                            ((back_array[:, 4]//1293) + 1) * 1293]).T\n",
    "\n",
    "start_time = time.time()\n",
    "\n",
    "def my_function(i):\n",
    "    global back_array\n",
    "    global back_array_next\n",
    "    neighbors = back_array[(back_array[:, 4] < back_array_next[i, 2] + 1200) & (back_array_next[i, 2] <= back_array[:, 4])]\n",
    "    neighbors = neighbors[(neighbors[:, 2] < back_array_next[i, 0] + n) & (back_array_next[i, 0] - n < neighbors[:, 2])]\n",
    "    neighbors = neighbors[(neighbors[:, 3] < back_array_next[i, 1] + n) & (back_array_next[i, 1] - n < neighbors[:, 3])]\n",
    "\n",
    "    dist = np.sqrt((neighbors[:, 2] - back_array[i, 2]) ** 2 + (neighbors[:, 3] - back_array[i, 3]) ** 2 + (neighbors[:, 4] - back_array[i, 4]) ** 2)\n",
    "    best_neighbors = neighbors[((abs(neighbors[:, 0] - back_array[i, 0]) + abs(neighbors[:, 1] - back_array[i, 1]) + 1e-3) / (1 + dist)).argsort()[:3]]\n",
    "    if best_neighbors.shape[0] == 0:\n",
    "        local_rows = []\n",
    "        return\n",
    "    if i%100000 == 0:\n",
    "        print(i)\n",
    "        print(\"--- %s seconds ---\" % (time.time() - start_time))\n",
    "    local_rows = []\n",
    "    for neighbor in best_neighbors:\n",
    "        local_rows.append(np.concatenate([back_array[i, :], neighbor]))\n",
    "    return local_rows\n",
    "\n",
    "        \n",
    "        \n",
    "sessions_trainCV_1 = Parallel(n_jobs=-1)(delayed(my_function)(i) for i in range(back.shape[0]))\n",
    "sessions_trainCV_1 = [x for x in sessions_trainCV_1 if x is not None]\n",
    "trainCV_1 = np.concatenate(sessions_trainCV_1)"
   ]
  },
  {
   "cell_type": "code",
   "execution_count": null,
   "metadata": {
    "collapsed": true
   },
   "outputs": [],
   "source": [
    "train_0 = np.vstack((trainCV_0, trainCV_1))\n",
    "csv_CV = pd.DataFrame(data=train_0, columns=['TX1','TY1', 'X1', 'Y1','Z1', 'signal1', 'TX2','TY2', 'X2', 'Y2','Z2', 'signal2'])\n",
    "csv_CV['dTX'] = csv_CV.TX1 - csv_CV.TX2\n",
    "csv_CV['dTY'] = csv_CV.TY1 - csv_CV.TY2\n",
    "csv_CV['dX'] = csv_CV.X1 - csv_CV.X2\n",
    "csv_CV['dY'] = csv_CV.Y1 - csv_CV.Y2\n",
    "csv_CV['dZ'] = csv_CV.Z1 - csv_CV.Z2\n",
    "csv_CV.to_csv('/data/viktor/data_4/hdf5-0/trainCV.csv', index=False)"
   ]
  }
 ],
 "metadata": {
  "kernelspec": {
   "display_name": "Python 3",
   "language": "python",
   "name": "python3"
  },
  "language_info": {
   "codemirror_mode": {
    "name": "ipython",
    "version": 3
   },
   "file_extension": ".py",
   "mimetype": "text/x-python",
   "name": "python",
   "nbconvert_exporter": "python",
   "pygments_lexer": "ipython3",
   "version": "3.6.2"
  }
 },
 "nbformat": 4,
 "nbformat_minor": 2
}
